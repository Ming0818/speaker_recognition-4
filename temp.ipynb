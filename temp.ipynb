{
 "cells": [
  {
   "cell_type": "code",
   "execution_count": 10,
   "metadata": {
    "collapsed": false
   },
   "outputs": [],
   "source": [
    "from scipy.misc import imread, imresize\n",
    "import tflearn\n",
    "import numpy  as np\n",
    "\n",
    "from sklearn import neighbors\n",
    "from sklearn.externals import joblib\n",
    "\n",
    "import os\n",
    "import sys\n",
    "\n",
    "from googlenet import googlenet_core as feature_layer\n",
    "from googlenet import googlenet\n",
    "\n",
    "import tensorflow as tf\n",
    "\n",
    "MODEL_PATH = 'checkpoints/model_googlenet-12000'\n",
    "input_width = 227\n",
    "num_classes = 40\n",
    "\n",
    "def load_model():\n",
    "    tf.reset_default_graph()\n",
    "    tflearn.init_graph(num_cores=2, gpu_memory_fraction=0.5)\n",
    "\n",
    "    features = feature_layer(input_width)\n",
    "    loss = tflearn.layers.core.fully_connected(features, num_classes, activation='softmax')\n",
    "    network = tflearn.regression(loss, optimizer='momentum',\n",
    "                     loss='categorical_crossentropy',\n",
    "                     learning_rate=0.001)\n",
    "    model = tflearn.DNN(network, checkpoint_path='checkpoints/model_googlenet',\n",
    "                    max_checkpoints=1, tensorboard_verbose=2)\n",
    "\n",
    "\n",
    "    model.load(MODEL_PATH, weights_only=True)\n",
    "    \n",
    "    \n",
    "    m = tflearn.DNN(features, session=model.session)\n",
    "    \n",
    "    return m\n",
    "\n",
    "\n",
    "\n",
    "def get_features(model, input_path):\n",
    "    \"\"\" Calculates activations of hidden layer of trained NN\n",
    "    \"\"\"\n",
    "    \n",
    "    img= imread(input_path, mode='RGB')\n",
    "    img = imresize(img, (input_width, input_width))\n",
    "\n",
    "\n",
    "    res = np.array(model.predict([img]))\n",
    "    return res.flatten()\n",
    "\n",
    "\n",
    "def extract_feaures_for_dir(dirname, label=None):\n",
    "\t\n",
    "\tdef ispng(name):\n",
    "\t\treturn \"png\"==name.split(\".\")[-1]\n",
    "\n",
    "\tmodel = load_model()\n",
    "\tfiles = [os.path.join(dirname,f) for f in os.listdir(dirname) if ispng(os.path.join(dirname,f))]\n",
    "\tall_features = []\n",
    "\n",
    "\tfor file in files:\n",
    "\t\tprint('extracting features from ' + file + ' ...')\n",
    "\t\tf = get_features(model, file)\t\t\n",
    "\t\tif label is not None:\n",
    "\t\t\tf = np.concatenate([[label], f])\n",
    "\t\tall_features.append(f)\n",
    "\n",
    "\treturn np.array(all_features, dtype=np.float32)\n",
    "\n",
    "\n",
    "\n",
    "def write_dict(dict, filename, sep):\n",
    "    with open(filename, \"w\") as f:\n",
    "        for i in dict.keys():            \n",
    "            f.write(str(i) + sep + dict[i] + \"\\n\")\n",
    "\n",
    "def read_dict(filename, sep):\n",
    "    with open(filename, \"r\") as f:\n",
    "        dict = {}\n",
    "        for line in f:\n",
    "            values = line.split(sep)\n",
    "            dict[int(values[0])] = values[1].strip()\n",
    "        return(dict)\n",
    "\n",
    "\n",
    "TRAINDATA_PATH = 'recordings_train/'\n",
    "EVAL_PATH = 'recordings_eval/'\n",
    "DICT_NAME = 'users'\n",
    "dict_path = TRAINDATA_PATH+DICT_NAME+'.txt'\n",
    "sep = '\\t'\n",
    "\n",
    "FEATURES_PATH = TRAINDATA_PATH + 'features.txt'\n",
    "clf_path = TRAINDATA_PATH + 'knn.pkl'\n",
    "\n",
    "# kNN model params\n",
    "n_neighbors = 5\n",
    "weights = 'distance' #'uniform'\n",
    "\n",
    "def get_xy_pairs(features):\n",
    "\ty = features[:,0]\n",
    "\tX = features[:,1:]\n",
    "\treturn X, y\n",
    "\n",
    "def run_training():\t\t\n",
    "\t# read dictionary and print existing users\n",
    "\tusers = {}\n",
    "\tcount = 0\n",
    "\t\n",
    "\tlabel=0\n",
    "\tif os.path.isfile(dict_path):\t\t\n",
    "\t\tusers = read_dict(dict_path, sep)\t\t\n",
    "\t\tkeys = [int(k) for k in users.keys()]\n",
    "\t\tcount = len(keys)\n",
    "\n",
    "\t\tprint 'Select existing user or add a new one:'\n",
    "\t\tfor k in users:\n",
    "\t\t\tprint '%s:\\t%s' % (str(k), users[k])\n",
    "\t\tprint '0:\\tADD NEW USER'\t\t\n",
    "\t\tchoice = int(raw_input('\\nType in selected index: ').strip())\n",
    "\t\tif choice==0:\n",
    "\t\t\tname = raw_input(\"Type new user's name: \").strip()\n",
    "\t\t\tkey = np.max(keys)+1\n",
    "\t\t\tusers[key]=name\n",
    "\t\t\tlabel=key\n",
    "\t\telse: \n",
    "\t\t\tlabel = choice\n",
    "\telse:\n",
    "\t\t# add label (user name) to empty dictionary\t\n",
    "\t\tname = raw_input(\"Type new user's name: \")\n",
    "\t\tusers = {1: name.strip()}\n",
    "\t\tlabel = 1\n",
    "\n",
    "\n",
    "\t# calculate feature vectors \n",
    "\tfeature_set = extract_feaures_for_dir(TRAINDATA_PATH, label)\n",
    "\n",
    "\t# save dictionary and features\n",
    "\tif len(users.keys())>count:\n",
    "\t\twrite_dict(users, dict_path, sep)\n",
    "\t\n",
    "\t# append to existing features\n",
    "\tif os.path.isfile(FEATURES_PATH):\n",
    "\t\tdata = np.loadtxt(FEATURES_PATH, dtype=np.float32)\n",
    "\t\tfeature_set = np.concatenate([data, feature_set], axis=0)\t\t\n",
    "\n",
    "\tprint('fitting kNN model...')\n",
    "\t#clf = neighbors.KNeighborsClassifier(n_neighbors, weights=weights)\n",
    "\tclf = neighbors.RadiusNeighborsClassifier(radius = 100.0, weights=weights)\n",
    "\tX, y = get_xy_pairs(feature_set)\n",
    "\tclf.fit(X, y)\n",
    "\tjoblib.dump(clf, clf_path) \n",
    "\n",
    "\n",
    "\tprint('saving features...')\n",
    "\twith open(FEATURES_PATH,'w') as f:\n",
    "\t\tnp.savetxt(f, feature_set, fmt='%.10f')\n",
    "\t\n",
    "\tprint('Done training!')\n",
    "\n",
    "\n",
    "def run_eval():\n",
    "\tusers = read_dict(dict_path, sep)\n",
    "\tprint(users)\n",
    "\tfeatures = extract_feaures_for_dir(EVAL_PATH, None)\n",
    "\tclf = joblib.load(clf_path)\n",
    "\tfor i in range(len(features)):\n",
    "\t\tanswer = int(clf.predict(features[i].reshape(1,-1))[0])\n",
    "\t\tprint('Prediction is: %s (%s)' % (answer, users[answer]))\n",
    "\t\tdist, ind = clf.kneighbors(features[i].reshape(1,-1))\n",
    "\t\tprint (\"Distances: \")\n",
    "\t\tprint dist\n",
    "\t\tprint (\"Indicies: \")\n",
    "\t\tprint ind\n",
    "        \n",
    "\n",
    "\n",
    "def dialog():\n",
    "\tchoice = raw_input('''Available modes:\n",
    "\t\t1: training\n",
    "\t\t2: evaluation\n",
    "\t\tYour choice: ''')\n",
    "\tchoice = int(choice)\n",
    "\tif choice==1:\n",
    "\t\trun_training()\n",
    "\telse:\n",
    "\t\trun_eval()"
   ]
  },
  {
   "cell_type": "code",
   "execution_count": 5,
   "metadata": {
    "collapsed": false
   },
   "outputs": [
    {
     "name": "stdout",
     "output_type": "stream",
     "text": [
      "Available modes:\n",
      "\t\t1: training\n",
      "\t\t2: evaluation\n",
      "\t\tYour choice: 2\n",
      "{1: 'user174', 2: 'user84'}\n",
      "INFO:tensorflow:Summary name Loss/ (raw) is illegal; using Loss/__raw_ instead.\n",
      "extracting features from recordings_eval/174-50561-0001.png ...\n",
      "extracting features from recordings_eval/84-121123-0017.png ...\n",
      "extracting features from recordings_eval/174-50561-0000.png ...\n",
      "extracting features from recordings_eval/174-50561-0002.png ...\n",
      "extracting features from recordings_eval/84-121123-0001.png ...\n",
      "extracting features from recordings_eval/84-121123-0014.png ...\n",
      "Prediction is: 1 (user174)\n",
      "Distances: \n",
      "[[ 302.86490328  355.94583216  362.04751486  407.75315902  422.07181261]]\n",
      "Indicies: \n",
      "[[3 2 0 5 6]]\n",
      "Prediction is: 2 (user84)\n",
      "Distances: \n",
      "[[ 471.45283662  658.95644826  705.73572244  778.7172785   804.16612802]]\n",
      "Indicies: \n",
      "[[ 9  8 11  7  4]]\n",
      "Prediction is: 1 (user174)\n",
      "Distances: \n",
      "[[ 419.88568336  450.35593488  451.29792983  484.74666113  522.1597074 ]]\n",
      "Indicies: \n",
      "[[3 0 5 4 7]]\n",
      "Prediction is: 1 (user174)\n",
      "Distances: \n",
      "[[ 550.4770526   577.23854639  590.16813022  590.64665321  654.94513816]]\n",
      "Indicies: \n",
      "[[2 6 0 5 3]]\n",
      "Prediction is: 2 (user84)\n",
      "Distances: \n",
      "[[ 591.78409541  790.64735273  824.75487571  942.13503907  948.6668928 ]]\n",
      "Indicies: \n",
      "[[ 9  8 11  7  4]]\n",
      "Prediction is: 2 (user84)\n",
      "Distances: \n",
      "[[ 537.81562434  607.89202023  678.75660764  758.45644974  809.98645384]]\n",
      "Indicies: \n",
      "[[ 9  4  7 11  8]]\n"
     ]
    }
   ],
   "source": [
    "dialog()"
   ]
  },
  {
   "cell_type": "code",
   "execution_count": 8,
   "metadata": {
    "collapsed": false
   },
   "outputs": [
    {
     "name": "stdout",
     "output_type": "stream",
     "text": [
      "INFO:tensorflow:Summary name Loss/ (raw) is illegal; using Loss/__raw_ instead.\n",
      "extracting features from recordings_train/84-121550-0012.png ...\n",
      "extracting features from recordings_train/84-121550-0002.png ...\n",
      "extracting features from recordings_train/84-121550-0010.png ...\n",
      "extracting features from recordings_train/84-121550-0016.png ...\n"
     ]
    }
   ],
   "source": [
    "clf = joblib.load(clf_path)\n",
    "features = extract_feaures_for_dir(TRAINDATA_PATH, None)"
   ]
  },
  {
   "cell_type": "code",
   "execution_count": 11,
   "metadata": {
    "collapsed": false
   },
   "outputs": [
    {
     "name": "stdout",
     "output_type": "stream",
     "text": [
      "INFO:tensorflow:Summary name Loss/ (raw) is illegal; using Loss/__raw_ instead.\n",
      "extracting features from recordings_train/84-121550-0012.png ...\n",
      "extracting features from recordings_train/84-121550-0002.png ...\n",
      "extracting features from recordings_train/84-121550-0010.png ...\n",
      "extracting features from recordings_train/84-121550-0016.png ...\n"
     ]
    },
    {
     "data": {
      "text/plain": [
       "KNeighborsClassifier(algorithm='auto', leaf_size=30, metric='minkowski',\n",
       "           metric_params=None, n_jobs=1, n_neighbors=5, p=2,\n",
       "           weights='distance')"
      ]
     },
     "execution_count": 11,
     "metadata": {},
     "output_type": "execute_result"
    }
   ],
   "source": [
    "features = extract_feaures_for_dir(TRAINDATA_PATH, 1)\n",
    "clf = neighbors.KNeighborsClassifier(n_neighbors, weights=weights)\n",
    "X, y = get_xy_pairs(features)\n",
    "clf.fit(X, y)"
   ]
  },
  {
   "cell_type": "code",
   "execution_count": 15,
   "metadata": {
    "collapsed": false
   },
   "outputs": [],
   "source": [
    "dist, ind = clf.kneighbors(n_neighbors=3)"
   ]
  },
  {
   "cell_type": "code",
   "execution_count": 17,
   "metadata": {
    "collapsed": false
   },
   "outputs": [
    {
     "data": {
      "text/plain": [
       "array([[3, 2, 1],\n",
       "       [3, 0, 2],\n",
       "       [3, 0, 1],\n",
       "       [0, 1, 2]])"
      ]
     },
     "execution_count": 17,
     "metadata": {},
     "output_type": "execute_result"
    }
   ],
   "source": [
    "ind"
   ]
  },
  {
   "cell_type": "code",
   "execution_count": 26,
   "metadata": {
    "collapsed": false
   },
   "outputs": [
    {
     "name": "stdout",
     "output_type": "stream",
     "text": [
      "INFO:tensorflow:Summary name Loss/ (raw) is illegal; using Loss/__raw_ instead.\n",
      "extracting features from recordings_eval/174-50561-0001.png ...\n",
      "extracting features from recordings_eval/84-121123-0017.png ...\n",
      "extracting features from recordings_eval/174-50561-0000.png ...\n",
      "extracting features from recordings_eval/174-50561-0002.png ...\n",
      "extracting features from recordings_eval/84-121123-0001.png ...\n",
      "extracting features from recordings_eval/84-121123-0014.png ...\n"
     ]
    }
   ],
   "source": [
    "answers = []\n",
    "features = extract_feaures_for_dir(EVAL_PATH, None)\n",
    "for i in range(len(features)):\n",
    "    answer = clf.predict_proba(features[i].reshape(1,-1))\n",
    "    answers.append(answer) "
   ]
  },
  {
   "cell_type": "code",
   "execution_count": 28,
   "metadata": {
    "collapsed": false
   },
   "outputs": [],
   "source": [
    "answer = clf.kneighbors_graph(features)"
   ]
  },
  {
   "cell_type": "code",
   "execution_count": 30,
   "metadata": {
    "collapsed": false
   },
   "outputs": [
    {
     "name": "stdout",
     "output_type": "stream",
     "text": [
      "  (0, 3)\t1.0\n",
      "  (0, 2)\t1.0\n",
      "  (0, 0)\t1.0\n",
      "  (0, 5)\t1.0\n",
      "  (0, 6)\t1.0\n",
      "  (1, 7)\t1.0\n",
      "  (1, 4)\t1.0\n",
      "  (1, 6)\t1.0\n",
      "  (1, 3)\t1.0\n",
      "  (1, 1)\t1.0\n",
      "  (2, 3)\t1.0\n",
      "  (2, 0)\t1.0\n",
      "  (2, 5)\t1.0\n",
      "  (2, 4)\t1.0\n",
      "  (2, 7)\t1.0\n",
      "  (3, 2)\t1.0\n",
      "  (3, 6)\t1.0\n",
      "  (3, 0)\t1.0\n",
      "  (3, 5)\t1.0\n",
      "  (3, 3)\t1.0\n",
      "  (4, 7)\t1.0\n",
      "  (4, 4)\t1.0\n",
      "  (4, 3)\t1.0\n",
      "  (4, 6)\t1.0\n",
      "  (4, 1)\t1.0\n",
      "  (5, 4)\t1.0\n",
      "  (5, 7)\t1.0\n",
      "  (5, 3)\t1.0\n",
      "  (5, 1)\t1.0\n",
      "  (5, 6)\t1.0\n"
     ]
    }
   ],
   "source": [
    "print answer"
   ]
  },
  {
   "cell_type": "code",
   "execution_count": null,
   "metadata": {
    "collapsed": true
   },
   "outputs": [],
   "source": []
  }
 ],
 "metadata": {
  "kernelspec": {
   "display_name": "Python 2",
   "language": "python",
   "name": "python2"
  },
  "language_info": {
   "codemirror_mode": {
    "name": "ipython",
    "version": 2
   },
   "file_extension": ".py",
   "mimetype": "text/x-python",
   "name": "python",
   "nbconvert_exporter": "python",
   "pygments_lexer": "ipython2",
   "version": "2.7.6"
  }
 },
 "nbformat": 4,
 "nbformat_minor": 2
}
